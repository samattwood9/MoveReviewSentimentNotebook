{
 "cells": [
  {
   "cell_type": "markdown",
   "metadata": {},
   "source": [
    "# Sentiment Analysis for Movie Reviews"
   ]
  },
  {
   "cell_type": "markdown",
   "metadata": {},
   "source": [
    "## Installing packages and getting set-up"
   ]
  },
  {
   "cell_type": "code",
   "execution_count": 1,
   "metadata": {},
   "outputs": [
    {
     "data": {
      "text/html": [
       "Installing package Microsoft.ML, version 1.5.2................done!"
      ]
     },
     "metadata": {},
     "output_type": "display_data"
    },
    {
     "data": {
      "text/html": [
       "Successfully added reference to package Microsoft.ML, version 1.5.2"
      ]
     },
     "metadata": {},
     "output_type": "display_data"
    }
   ],
   "source": [
    "#r \"nuget:Microsoft.ML,1.5.2\"\n",
    "    \n",
    "using System;\n",
    "using System.Collections.Generic;\n",
    "using System.IO;\n",
    "using Microsoft.ML;\n",
    "using Microsoft.ML.Data;\n",
    "using static Microsoft.ML.DataOperationsCatalog;"
   ]
  },
  {
   "cell_type": "markdown",
   "metadata": {},
   "source": [
    "## Declaring data-classes"
   ]
  },
  {
   "cell_type": "code",
   "execution_count": 2,
   "metadata": {},
   "outputs": [],
   "source": [
    "// a class for the movie reviews we're going to analyse\n",
    "public class SentimentReview\n",
    "{\n",
    "    [LoadColumn(1)]\n",
    "    public string Sentiment { get; set; }\n",
    "\n",
    "    [LoadColumn(0)]\n",
    "    public string Review { get; set; }\n",
    "}"
   ]
  },
  {
   "cell_type": "code",
   "execution_count": 3,
   "metadata": {},
   "outputs": [],
   "source": [
    "// a class for the predictions we're going to make\n",
    "public class SentimentPrediction\n",
    "{\n",
    "    [ColumnName(\"PredictedLabel\")]\n",
    "    public bool Prediction { get; set; }\n",
    "\n",
    "    public float Probability { get; set; }\n",
    "\n",
    "    public float Score { get; set; }\n",
    "}"
   ]
  },
  {
   "cell_type": "code",
   "execution_count": 4,
   "metadata": {},
   "outputs": [],
   "source": [
    "// a class that will help us out later and be used to transform data so that our model can better understand it\n",
    "public class LookupMap\n",
    "{\n",
    "    public string Value { get; set; }\n",
    "    public bool Category { get; set; }\n",
    "}"
   ]
  },
  {
   "cell_type": "markdown",
   "metadata": {},
   "source": [
    "## Building the model"
   ]
  },
  {
   "cell_type": "code",
   "execution_count": 5,
   "metadata": {},
   "outputs": [],
   "source": [
    "// create mlContext, using a seed so that results are deterministic\n",
    "MLContext mlContext = new MLContext(seed: 0);"
   ]
  },
  {
   "cell_type": "code",
   "execution_count": 6,
   "metadata": {},
   "outputs": [
    {
     "data": {
      "text/html": [
       "<table><thead><tr><th><i>index</i></th><th>Name</th><th>Index</th><th>IsHidden</th><th>Type</th><th>Annotations</th></tr></thead><tbody><tr><td>0</td><td>Sentiment</td><td>0</td><td>False</td><td>{ Microsoft.ML.Data.TextDataViewType: RawType: System.ReadOnlyMemory&lt;System.Char&gt; }</td><td>{ Microsoft.ML.DataViewSchema+Annotations: Schema: [  ] }</td></tr><tr><td>1</td><td>Review</td><td>1</td><td>False</td><td>{ Microsoft.ML.Data.TextDataViewType: RawType: System.ReadOnlyMemory&lt;System.Char&gt; }</td><td>{ Microsoft.ML.DataViewSchema+Annotations: Schema: [  ] }</td></tr></tbody></table>"
      ]
     },
     "metadata": {},
     "output_type": "display_data"
    }
   ],
   "source": [
    "// load the data into an IDataView and then display its form (or schema)\n",
    "string dataPath = \"./imdbdataset.csv\";\n",
    "IDataView dataView = mlContext.Data.LoadFromTextFile<SentimentReview>(dataPath, hasHeader: true, separatorChar: ',', allowQuoting: true);\n",
    "display(dataView.Schema);"
   ]
  },
  {
   "cell_type": "code",
   "execution_count": 7,
   "metadata": {},
   "outputs": [
    {
     "data": {
      "text/html": [
       "<h4>trainingData Schema</h4>"
      ]
     },
     "metadata": {},
     "output_type": "display_data"
    },
    {
     "data": {
      "text/html": [
       "<table><thead><tr><th><i>index</i></th><th>Name</th><th>Index</th><th>IsHidden</th><th>Type</th><th>Annotations</th></tr></thead><tbody><tr><td>0</td><td>Sentiment</td><td>0</td><td>False</td><td>{ Microsoft.ML.Data.TextDataViewType: RawType: System.ReadOnlyMemory&lt;System.Char&gt; }</td><td>{ Microsoft.ML.DataViewSchema+Annotations: Schema: [  ] }</td></tr><tr><td>1</td><td>Review</td><td>1</td><td>False</td><td>{ Microsoft.ML.Data.TextDataViewType: RawType: System.ReadOnlyMemory&lt;System.Char&gt; }</td><td>{ Microsoft.ML.DataViewSchema+Annotations: Schema: [  ] }</td></tr></tbody></table>"
      ]
     },
     "metadata": {},
     "output_type": "display_data"
    },
    {
     "data": {
      "text/html": [
       "<h4>testData Schema</h4>"
      ]
     },
     "metadata": {},
     "output_type": "display_data"
    },
    {
     "data": {
      "text/html": [
       "<table><thead><tr><th><i>index</i></th><th>Name</th><th>Index</th><th>IsHidden</th><th>Type</th><th>Annotations</th></tr></thead><tbody><tr><td>0</td><td>Sentiment</td><td>0</td><td>False</td><td>{ Microsoft.ML.Data.TextDataViewType: RawType: System.ReadOnlyMemory&lt;System.Char&gt; }</td><td>{ Microsoft.ML.DataViewSchema+Annotations: Schema: [  ] }</td></tr><tr><td>1</td><td>Review</td><td>1</td><td>False</td><td>{ Microsoft.ML.Data.TextDataViewType: RawType: System.ReadOnlyMemory&lt;System.Char&gt; }</td><td>{ Microsoft.ML.DataViewSchema+Annotations: Schema: [  ] }</td></tr></tbody></table>"
      ]
     },
     "metadata": {},
     "output_type": "display_data"
    }
   ],
   "source": [
    "// split data into training and testing sets\n",
    "TrainTestData trainTestSplit = mlContext.Data.TrainTestSplit(dataView, testFraction: 0.2);\n",
    "IDataView trainingData = trainTestSplit.TrainSet;\n",
    "IDataView testData = trainTestSplit.TestSet;\n",
    "\n",
    "// and now take a quick look at both sets\n",
    "display(h4(\"trainingData Schema\"));\n",
    "display(trainingData.Schema);\n",
    "\n",
    "display(h4(\"testData Schema\"));\n",
    "display(testData.Schema);"
   ]
  },
  {
   "cell_type": "code",
   "execution_count": 8,
   "metadata": {},
   "outputs": [
    {
     "data": {
      "text/html": [
       "<table><thead><tr><th><i>index</i></th><th>Name</th><th>Index</th><th>IsHidden</th><th>Type</th><th>Annotations</th></tr></thead><tbody><tr><td>0</td><td>Value</td><td>0</td><td>False</td><td>{ Microsoft.ML.Data.TextDataViewType: RawType: System.ReadOnlyMemory&lt;System.Char&gt; }</td><td>{ Microsoft.ML.DataViewSchema+Annotations: Schema: [  ] }</td></tr><tr><td>1</td><td>Category</td><td>1</td><td>False</td><td>{ Microsoft.ML.Data.BooleanDataViewType: RawType: System.Boolean }</td><td>{ Microsoft.ML.DataViewSchema+Annotations: Schema: [  ] }</td></tr></tbody></table>"
      ]
     },
     "metadata": {},
     "output_type": "display_data"
    }
   ],
   "source": [
    "// define table used to map from string values in our csv to bool values that our model can work with  \n",
    "var lookupData = new[] {\n",
    "    new LookupMap { Value = \"negative\", Category = false },\n",
    "    new LookupMap { Value = \"positive\", Category = true }\n",
    "};\n",
    "\n",
    "var lookupIdvMap = mlContext.Data.LoadFromEnumerable(lookupData);\n",
    "\n",
    "display(lookupIdvMap.Schema)"
   ]
  },
  {
   "cell_type": "code",
   "execution_count": 9,
   "metadata": {},
   "outputs": [
    {
     "data": {
      "text/html": [
       "<table><thead><tr><th>LastEstimator</th></tr></thead><tbody><tr><td>{ Microsoft.ML.Trainers.SdcaLogisticRegressionBinaryTrainer: Info: { Microsoft.ML.TrainerInfo: NeedNormalization: True, WantCaching: True }, FeatureColumn: { Microsoft.ML.SchemaShape+Column: Name: Features, Kind: { Microsoft.ML.SchemaShape+Column+VectorKind: value__: 1 }, ItemType: { Microsoft.ML.Data.NumberDataViewType: RawType: System.Single }, IsKey: False, Annotations: [  ] }, LabelColumn: { Microsoft.ML.SchemaShape+Column: Name: Label, Kind: { Microsoft.ML.SchemaShape+Column+VectorKind: value__: 0 }, ItemType: { Microsoft.ML.Data.BooleanDataViewType: RawType: System.Boolean }, IsKey: False, Annotations: [  ] }, WeightColumn: { Microsoft.ML.SchemaShape+Column: Name: &lt;null&gt;, Kind: { Microsoft.ML.SchemaShape+Column+VectorKind: value__: 0 }, ItemType: &lt;null&gt;, IsKey: False, Annotations: &lt;null&gt; } }</td></tr></tbody></table>"
      ]
     },
     "metadata": {},
     "output_type": "display_data"
    }
   ],
   "source": [
    "// make pipeline (by applying the table from the previous cell)\n",
    "var dataProcessPipeline = mlContext.Transforms.Conversion.MapValue(outputColumnName: \"Label\", lookupMap: lookupIdvMap, lookupIdvMap.Schema[\"Value\"], lookupIdvMap.Schema[\"Category\"], inputColumnName: nameof(SentimentReview.Sentiment))\n",
    "    .Append(mlContext.Transforms.Text.FeaturizeText(outputColumnName: \"Features\", inputColumnName: nameof(SentimentReview.Review)));\n",
    "\n",
    "// set the training algorithm                         \n",
    "var trainer = mlContext.BinaryClassification.Trainers.SdcaLogisticRegression(labelColumnName: \"Label\", featureColumnName: \"Features\");\n",
    "\n",
    "// add the training algorithm to the pipeline\n",
    "var trainingPipeline = dataProcessPipeline.Append(trainer);\n",
    "\n",
    "display(trainingPipeline)"
   ]
  },
  {
   "cell_type": "code",
   "execution_count": 10,
   "metadata": {},
   "outputs": [
    {
     "name": "stdout",
     "output_type": "stream",
     "text": [
      "Please wait. The model is currently being trained (and tested)...\n",
      "Model trained!\n"
     ]
    }
   ],
   "source": [
    "// train the model (fitting to the trainingData)\n",
    "Console.WriteLine(\"Please wait. The model is currently being trained (and tested)...\");\n",
    "\n",
    "ITransformer trainedModel = trainingPipeline.Fit(trainingData);\n",
    "\n",
    "Console.WriteLine(\"Model trained!\")"
   ]
  },
  {
   "cell_type": "code",
   "execution_count": 11,
   "metadata": {},
   "outputs": [
    {
     "data": {
      "text/html": [
       "<table><thead><tr><th>LogLoss</th><th>LogLossReduction</th><th>Entropy</th><th>AreaUnderRocCurve</th><th>Accuracy</th><th>PositivePrecision</th><th>PositiveRecall</th><th>NegativePrecision</th><th>NegativeRecall</th><th>F1Score</th><th>AreaUnderPrecisionRecallCurve</th><th>ConfusionMatrix</th></tr></thead><tbody><tr><td>0.5006565972153878</td><td>0.49929115971158444</td><td>0.9998956617722234</td><td>0.9292770964818572</td><td>0.8579664049299275</td><td>0.8553959627329193</td><td>0.8656452563347083</td><td>0.8606640863719699</td><td>0.8501006036217303</td><td>0.8604900907937127</td><td>0.9282273148610037</td><td>{ Microsoft.ML.Data.ConfusionMatrix: PerClassPrecision: [ 0.8553959627329193, 0.8606640863719699 ], PerClassRecall: [ 0.8656452563347083, 0.8501006036217303 ], Counts: [ [ 4407, 684 ], [ 745, 4225 ] ], NumberOfClasses: 2 }</td></tr></tbody></table>"
      ]
     },
     "metadata": {},
     "output_type": "display_data"
    }
   ],
   "source": [
    "// evaluate the model on the test data\n",
    "var predictions = trainedModel.Transform(testData);\n",
    "\n",
    "var metrics = mlContext.BinaryClassification.Evaluate(data: predictions, labelColumnName: \"Label\", scoreColumnName: \"Score\");\n",
    "\n",
    "display(metrics)"
   ]
  },
  {
   "cell_type": "code",
   "execution_count": 12,
   "metadata": {},
   "outputs": [
    {
     "name": "stdout",
     "output_type": "stream",
     "text": [
      "Prediction model/engine built!\r\n"
     ]
    }
   ],
   "source": [
    "// create a prediction engine using the trained model\n",
    "var predEngine = mlContext.Model.CreatePredictionEngine<SentimentReview, SentimentPrediction>(trainedModel);\n",
    "\n",
    "Console.WriteLine(\"Prediction model/engine built!\")"
   ]
  },
  {
   "cell_type": "markdown",
   "metadata": {},
   "source": [
    "## Using the model"
   ]
  },
  {
   "cell_type": "code",
   "execution_count": 13,
   "metadata": {},
   "outputs": [
    {
     "data": {
      "text/html": [
       "<h4>Bad Review</h4>"
      ]
     },
     "metadata": {},
     "output_type": "display_data"
    },
    {
     "data": {
      "text/html": [
       "<table><thead><tr><th>Sentiment</th><th>Review</th></tr></thead><tbody><tr><td>&lt;null&gt;</td><td>I hate this movie! It is terrible!</td></tr></tbody></table>"
      ]
     },
     "metadata": {},
     "output_type": "display_data"
    },
    {
     "data": {
      "text/html": [
       "<h4>Good Review</h4>"
      ]
     },
     "metadata": {},
     "output_type": "display_data"
    },
    {
     "data": {
      "text/html": [
       "<table><thead><tr><th>Sentiment</th><th>Review</th></tr></thead><tbody><tr><td>&lt;null&gt;</td><td>I love this movie! It is great!</td></tr></tbody></table>"
      ]
     },
     "metadata": {},
     "output_type": "display_data"
    },
    {
     "data": {
      "text/html": [
       "<h4>Neutral Review</h4>"
      ]
     },
     "metadata": {},
     "output_type": "display_data"
    },
    {
     "data": {
      "text/html": [
       "<table><thead><tr><th>Sentiment</th><th>Review</th></tr></thead><tbody><tr><td>&lt;null&gt;</td><td>I don&#39;t know about this movie. It is OK.</td></tr></tbody></table>"
      ]
     },
     "metadata": {},
     "output_type": "display_data"
    }
   ],
   "source": [
    "// create some example reviews (for testing the prediction engine)\n",
    "SentimentReview badReview = new SentimentReview { Review = \"I hate this movie! It is terrible!\" };\n",
    "SentimentReview goodReview = new SentimentReview { Review = \"I love this movie! It is great!\" };\n",
    "SentimentReview neutralReview = new SentimentReview { Review = \"I don't know about this movie. It is OK.\" };\n",
    "\n",
    "display(h4(\"Bad Review\"));\n",
    "display(badReview);\n",
    "\n",
    "display(h4(\"Good Review\"));\n",
    "display(goodReview);\n",
    "\n",
    "display(h4(\"Neutral Review\"));\n",
    "display(neutralReview);"
   ]
  },
  {
   "cell_type": "code",
   "execution_count": 14,
   "metadata": {},
   "outputs": [
    {
     "data": {
      "text/html": [
       "<h4>Bad Review</h4>"
      ]
     },
     "metadata": {},
     "output_type": "display_data"
    },
    {
     "data": {
      "text/html": [
       "<table><thead><tr><th>Prediction</th><th>Probability</th><th>Score</th></tr></thead><tbody><tr><td>False</td><td>0.105195455</td><td>-2.1407852</td></tr></tbody></table>"
      ]
     },
     "metadata": {},
     "output_type": "display_data"
    },
    {
     "data": {
      "text/html": [
       "<h4>Good Review</h4>"
      ]
     },
     "metadata": {},
     "output_type": "display_data"
    },
    {
     "data": {
      "text/html": [
       "<table><thead><tr><th>Prediction</th><th>Probability</th><th>Score</th></tr></thead><tbody><tr><td>True</td><td>0.9982779</td><td>6.362488</td></tr></tbody></table>"
      ]
     },
     "metadata": {},
     "output_type": "display_data"
    },
    {
     "data": {
      "text/html": [
       "<h4>Neutral Review</h4>"
      ]
     },
     "metadata": {},
     "output_type": "display_data"
    },
    {
     "data": {
      "text/html": [
       "<table><thead><tr><th>Prediction</th><th>Probability</th><th>Score</th></tr></thead><tbody><tr><td>True</td><td>0.5594775</td><td>0.2390418</td></tr></tbody></table>"
      ]
     },
     "metadata": {},
     "output_type": "display_data"
    }
   ],
   "source": [
    "// predict whether each example review has a positive or negative sentiment\n",
    "var predBadReview = predEngine.Predict(badReview);\n",
    "var predGoodReview = predEngine.Predict(goodReview);\n",
    "var predNeutralReview = predEngine.Predict(neutralReview);\n",
    "\n",
    "display(h4(\"Bad Review\"));\n",
    "display(predBadReview);\n",
    "\n",
    "display(h4(\"Good Review\"));\n",
    "display(predGoodReview);\n",
    "\n",
    "display(h4(\"Neutral Review\"));\n",
    "display(predNeutralReview);"
   ]
  },
  {
   "cell_type": "code",
   "execution_count": null,
   "metadata": {},
   "outputs": [],
   "source": []
  }
 ],
 "metadata": {
  "kernelspec": {
   "display_name": ".NET (C#)",
   "language": "C#",
   "name": ".net-csharp"
  },
  "language_info": {
   "file_extension": ".cs",
   "mimetype": "text/x-csharp",
   "name": "C#",
   "pygments_lexer": "csharp",
   "version": "8.0"
  }
 },
 "nbformat": 4,
 "nbformat_minor": 4
}
